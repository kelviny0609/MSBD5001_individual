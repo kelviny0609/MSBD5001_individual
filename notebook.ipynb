{
 "cells": [
  {
   "cell_type": "code",
   "execution_count": 1,
   "metadata": {
    "cell_id": "5088fdb1-9a62-4d80-9b84-45b3e7b5b981",
    "deepnote_cell_height": 314.9375,
    "deepnote_cell_type": "code",
    "deepnote_to_be_reexecuted": false,
    "execution_millis": 1627,
    "execution_start": 1650197728951,
    "source_hash": "ddd144cf",
    "tags": []
   },
   "outputs": [
    {
     "name": "stdout",
     "output_type": "stream",
     "text": [
      "Index(['id', 'MO HLADR+ MFI (cells/ul)', 'Neu CD64+MFI (cells/ul)',\n",
      "       'CD3+T (cells/ul)', 'CD8+T (cells/ul)', 'CD4+T (cells/ul)',\n",
      "       'NK (cells/ul)', 'CD19+ (cells/ul)', 'CD45+ (cells/ul)', 'Age',\n",
      "       'Sex 0M1F', 'Mono CD64+MFI (cells/ul)', 'label'],\n",
      "      dtype='object')\n"
     ]
    }
   ],
   "source": [
    "import pandas as pd\n",
    "import numpy as np\n",
    "import matplotlib.pyplot as plt\n",
    "import seaborn as sns\n",
    "import math\n",
    "df_train = pd.read_csv(\"./data/train.csv\")\n",
    "df_test = pd.read_csv(\"./data/test.csv\")\n",
    "print(df_train.columns)"
   ]
  },
  {
   "cell_type": "code",
   "execution_count": 2,
   "metadata": {
    "cell_id": "a88a36cc-584b-463d-95a2-6784044fc08f",
    "deepnote_cell_height": 600,
    "deepnote_cell_type": "code",
    "deepnote_output_heights": [
     250
    ],
    "deepnote_to_be_reexecuted": false,
    "execution_millis": 422,
    "execution_start": 1649731999019,
    "source_hash": "6bdbbf01",
    "tags": []
   },
   "outputs": [
    {
     "data": {
      "image/png": "[encoded data removed]",
      "text/plain": [
       "<Figure size 432x288 with 1 Axes>"
      ]
     },
     "metadata": {
      "needs_background": "light"
     },
     "output_type": "display_data"
    }
   ],
   "source": [
    "df_train.loc[(df_train.Age >= 65),  'AgeGroup'] = '6.>=65'\n",
    "df_train.loc[(df_train.Age < 65),  'AgeGroup'] = '5.55-64'\n",
    "df_train.loc[(df_train.Age < 55),  'AgeGroup'] = '4.45-54'\n",
    "df_train.loc[(df_train.Age < 45),  'AgeGroup'] = '3.35-44'\n",
    "df_train.loc[(df_train.Age < 35),  'AgeGroup'] = '2.25-34'\n",
    "df_train.loc[(df_train.Age < 25),  'AgeGroup'] = '1.<25'\n",
    "plt.plot(df_train.groupby(\"AgeGroup\").agg({\"label\":\"mean\"}))\n",
    "\n",
    "\n",
    "df_test.loc[(df_test.Age >= 65),  'AgeGroup'] = '6.>=65'\n",
    "df_test.loc[(df_test.Age < 65),  'AgeGroup'] = '5.55-64'\n",
    "df_test.loc[(df_test.Age < 55),  'AgeGroup'] = '4.45-54'\n",
    "df_test.loc[(df_test.Age < 45),  'AgeGroup'] = '3.35-44'\n",
    "df_test.loc[(df_test.Age < 35),  'AgeGroup'] = '2.25-34'\n",
    "df_test.loc[(df_test.Age < 25),  'AgeGroup'] = '1.<25'"
   ]
  },
  {
   "cell_type": "code",
   "execution_count": 3,
   "metadata": {
    "cell_id": "921ded39-7108-4d16-b364-ae8dde287930",
    "deepnote_cell_height": 2055.703125,
    "deepnote_cell_type": "code",
    "deepnote_output_heights": [
     611,
     611
    ],
    "deepnote_to_be_reexecuted": false,
    "execution_millis": 28556,
    "execution_start": 1650198188424,
    "owner_user_id": "473d97c6-c741-4e43-857d-9218750e0a97",
    "source_hash": "e56a9cbd",
    "tags": []
   },
   "outputs": [
    {
     "name": "stderr",
     "output_type": "stream",
     "text": [
      "c:\\Users\\tkyiu\\AppData\\Local\\Programs\\Python\\Python37\\lib\\site-packages\\sklearn\\pipeline.py:394: DataConversionWarning: A column-vector y was passed when a 1d array was expected. Please change the shape of y to (n_samples,), for example using ravel().\n",
      "  self._final_estimator.fit(Xt, y, **fit_params_last_step)\n"
     ]
    },
    {
     "data": {
      "text/plain": [
       "GridSearchCV(estimator=Pipeline(steps=[('preprocessor',\n",
       "                                        ColumnTransformer(transformers=[('num',\n",
       "                                                                         Pipeline(steps=[('imputer',\n",
       "                                                                                          SimpleImputer()),\n",
       "                                                                                         ('scaler',\n",
       "                                                                                          StandardScaler())]),\n",
       "                                                                         ['MO '\n",
       "                                                                          'HLADR+ '\n",
       "                                                                          'MFI '\n",
       "                                                                          '(cells/ul)',\n",
       "                                                                          'Neu '\n",
       "                                                                          'CD64+MFI '\n",
       "                                                                          '(cells/ul)',\n",
       "                                                                          'Mono '\n",
       "                                                                          'CD64+MFI '\n",
       "                                                                          '(cells/ul)',\n",
       "                                                                          'Age']),\n",
       "                                                                        ('log',\n",
       "                                                                         FunctionTransformer(func=<ufunc 'log1p'>),\n",
       "                                                                         ['CD3+T '\n",
       "                                                                          '(cells/ul)',\n",
       "                                                                          'CD8+T '\n",
       "                                                                          '(cells/ul)',\n",
       "                                                                          'CD4+T '\n",
       "                                                                          '(cells/ul)',\n",
       "                                                                          'NK '\n",
       "                                                                          '(cells/ul)',\n",
       "                                                                          'CD19+ '\n",
       "                                                                          '(cells/ul)',\n",
       "                                                                          'CD45+ '\n",
       "                                                                          '(cells/ul)']),\n",
       "                                                                        ('cat',\n",
       "                                                                         OneHotEncoder(handle_unknown='ignore'),\n",
       "                                                                         ['Sex '\n",
       "                                                                          '0M1F'])])),\n",
       "                                       ('classifier',\n",
       "                                        RandomForestClassifier(random_state=0))]),\n",
       "             n_jobs=4,\n",
       "             param_grid={'classifier__max_depth': [3, 5, 7, 9],\n",
       "                         'classifier__n_estimators': [50, 100, 200, 500]})"
      ]
     },
     "execution_count": 3,
     "metadata": {},
     "output_type": "execute_result"
    }
   ],
   "source": [
    "\n",
    "from sklearn.model_selection import train_test_split\n",
    "from sklearn.metrics import accuracy_score\n",
    "from sklearn.compose import ColumnTransformer\n",
    "from sklearn.datasets import fetch_openml\n",
    "from sklearn.pipeline import Pipeline\n",
    "from sklearn.impute import SimpleImputer\n",
    "from sklearn.preprocessing import StandardScaler, OneHotEncoder, FunctionTransformer\n",
    "from sklearn.model_selection import train_test_split, GridSearchCV\n",
    "from sklearn.decomposition import PCA\n",
    "\n",
    "import xgboost as xgb\n",
    "from sklearn.neighbors import KNeighborsClassifier\n",
    "from sklearn import svm\n",
    "from sklearn.tree import DecisionTreeClassifier\n",
    "from sklearn.linear_model import LogisticRegression\n",
    "from sklearn.ensemble import AdaBoostClassifier,RandomForestClassifier\n",
    "\n",
    "param_grid = {\n",
    "    'classifier__max_depth': [3,5,7,9],\n",
    "    'classifier__n_estimators': [50,100,200,500]\n",
    "}\n",
    "\n",
    "\n",
    "\n",
    "\n",
    "col_X = ['MO HLADR+ MFI (cells/ul)', 'Neu CD64+MFI (cells/ul)','CD3+T (cells/ul)', 'CD8+T (cells/ul)', 'CD4+T (cells/ul)','NK (cells/ul)', 'CD19+ (cells/ul)', 'CD45+ (cells/ul)', 'Age',\n",
    "       'Sex 0M1F', 'Mono CD64+MFI (cells/ul)']\n",
    "num_X = ['MO HLADR+ MFI (cells/ul)', 'Neu CD64+MFI (cells/ul)',\n",
    "       'Mono CD64+MFI (cells/ul)',\"Age\"\n",
    "]\n",
    "cat_X = [\n",
    "       'Sex 0M1F'\n",
    "]\n",
    "col_Y =  [\"label\"]\n",
    "\n",
    "log_trans_col = ['CD3+T (cells/ul)', 'CD8+T (cells/ul)', 'CD4+T (cells/ul)','NK (cells/ul)', 'CD19+ (cells/ul)', 'CD45+ (cells/ul)']\n",
    "\n",
    "\n",
    "X=df_train[col_X]\n",
    "Y=df_train[col_Y]\n",
    "\n",
    "numpipline = Pipeline(\n",
    "    steps=[(\"imputer\", SimpleImputer(strategy=\"mean\")), (\"scaler\", StandardScaler())]\n",
    ")\n",
    "\n",
    "preprocessor = ColumnTransformer(\n",
    "    transformers=[\n",
    "        (\"num\", numpipline, num_X),\n",
    "        (\"log\",FunctionTransformer(np.log1p),log_trans_col),\n",
    "        (\"cat\", OneHotEncoder(handle_unknown=\"ignore\"), cat_X)\n",
    "    ]\n",
    ")\n",
    "\n",
    "#xgb_classifier = xgb.XGBClassifier()\n",
    "#svm_classifier = svm.SVC()\n",
    "rf = RandomForestClassifier(random_state=0)\n",
    "pipe = Pipeline(\n",
    "    steps=[(\"preprocessor\", preprocessor), (\"classifier\", rf)]\n",
    ")\n",
    "\n",
    "X_train, X_test, Y_train, Y_test = train_test_split(X, Y, test_size=0.2)\n",
    "\n",
    "\n",
    "search = GridSearchCV(pipe, param_grid, n_jobs=4)\n",
    "search.fit(X_train, Y_train)\n",
    "#pipe.fit(X_train ,y = Y_train)\n",
    "\n",
    "\n",
    "\n",
    "\n"
   ]
  },
  {
   "cell_type": "code",
   "execution_count": 4,
   "metadata": {
    "cell_id": "659650dfff7e4fe6ad03539bc11b19e5",
    "deepnote_cell_height": 112.1875,
    "deepnote_cell_type": "code",
    "deepnote_to_be_reexecuted": false,
    "execution_millis": 11,
    "execution_start": 1650198294085,
    "source_hash": "c7729271",
    "tags": []
   },
   "outputs": [
    {
     "name": "stdout",
     "output_type": "stream",
     "text": [
      "model score: 0.833\n"
     ]
    }
   ],
   "source": [
    "print(\"model score: %.3f\" % search.score(X_test, Y_test))"
   ]
  },
  {
   "cell_type": "code",
   "execution_count": 6,
   "metadata": {
    "cell_id": "4ee2d47c196445c996b6a9ec676ee1ed",
    "deepnote_cell_height": 99.65625,
    "deepnote_cell_type": "code",
    "deepnote_to_be_reexecuted": false,
    "execution_millis": 3,
    "execution_start": 1650198303382,
    "source_hash": "24dcedc5",
    "tags": []
   },
   "outputs": [],
   "source": [
    "from datetime import datetime\n",
    "str_time = datetime.now().strftime(\"%Y%m%d%H%M%S\")"
   ]
  },
  {
   "cell_type": "code",
   "execution_count": 7,
   "metadata": {
    "cell_id": "52816db9-df41-4448-acd8-fc849631bf83",
    "deepnote_cell_height": 171.65625,
    "deepnote_cell_type": "code",
    "deepnote_table_loading": false,
    "deepnote_table_state": {
     "filters": [],
     "pageIndex": 0,
     "pageSize": 100,
     "sortBy": [
      {
       "id": "MO HLADR+ MFI (cells/ul)",
       "type": "asc"
      }
     ]
    },
    "deepnote_to_be_reexecuted": false,
    "execution_millis": 18,
    "execution_start": 1650198306519,
    "source_hash": "b1a143e3",
    "tags": []
   },
   "outputs": [],
   "source": [
    "#y_prob = [p[1] for p in search.predict_proba(df_test[col_X])]\n",
    "#y_res = pipe.predict(df_test[col_X])\n",
    "#y_res = [0 if p < 0.6 else 1 for p in y_prob]\n",
    "y_res = search.predict(df_test[col_X])\n",
    "df_submission = pd.DataFrame({\"id\":df_test.id,\"label\":y_res})\n",
    "df_submission.to_csv(\"./submission/last_\"+str_time+\".csv\",index=False,index_label=False)"
   ]
  },
  {
   "cell_type": "code",
   "execution_count": null,
   "metadata": {
    "cell_id": "5fc36e7b-cef0-4595-9304-ae6ecf261f39",
    "deepnote_cell_height": 2610.328125,
    "deepnote_cell_type": "code",
    "deepnote_to_be_reexecuted": false,
    "execution_millis": 90,
    "execution_start": 1649670384245,
    "source_hash": "cc9de2b4",
    "tags": []
   },
   "outputs": [
    {
     "data": {
      "application/vnd.deepnote.dataframe.v3+json": {
       "column_count": 3,
       "columns": [
        {
         "dtype": "int64",
         "name": "id",
         "stats": {
          "histogram": [
           {
            "bin_end": 5.8,
            "bin_start": 0,
            "count": 6
           },
           {
            "bin_end": 11.6,
            "bin_start": 5.8,
            "count": 6
           },
           {
            "bin_end": 17.4,
            "bin_start": 11.6,
            "count": 6
           },
           {
            "bin_end": 23.2,
            "bin_start": 17.4,
            "count": 6
           },
           {
            "bin_end": 29,
            "bin_start": 23.2,
            "count": 5
           },
           {
            "bin_end": 34.8,
            "bin_start": 29,
            "count": 6
           },
           {
            "bin_end": 40.6,
            "bin_start": 34.8,
            "count": 6
           },
           {
            "bin_end": 46.4,
            "bin_start": 40.6,
            "count": 6
           },
           {
            "bin_end": 52.199999999999996,
            "bin_start": 46.4,
            "count": 6
           },
           {
            "bin_end": 58,
            "bin_start": 52.199999999999996,
            "count": 6
           }
          ],
          "max": "58",
          "min": "0",
          "nan_count": 0,
          "unique_count": 59
         }
        },
        {
         "dtype": "int64",
         "name": "label",
         "stats": {
          "histogram": [
           {
            "bin_end": 0.1,
            "bin_start": 0,
            "count": 43
           },
           {
            "bin_end": 0.2,
            "bin_start": 0.1,
            "count": 0
           },
           {
            "bin_end": 0.30000000000000004,
            "bin_start": 0.2,
            "count": 0
           },
           {
            "bin_end": 0.4,
            "bin_start": 0.30000000000000004,
            "count": 0
           },
           {
            "bin_end": 0.5,
            "bin_start": 0.4,
            "count": 0
           },
           {
            "bin_end": 0.6000000000000001,
            "bin_start": 0.5,
            "count": 0
           },
           {
            "bin_end": 0.7000000000000001,
            "bin_start": 0.6000000000000001,
            "count": 0
           },
           {
            "bin_end": 0.8,
            "bin_start": 0.7000000000000001,
            "count": 0
           },
           {
            "bin_end": 0.9,
            "bin_start": 0.8,
            "count": 0
           },
           {
            "bin_end": 1,
            "bin_start": 0.9,
            "count": 16
           }
          ],
          "max": "1",
          "min": "0",
          "nan_count": 0,
          "unique_count": 2
         }
        },
        {
         "dtype": "float64",
         "name": "prob",
         "stats": {
          "histogram": [
           {
            "bin_end": 0.12781763523817063,
            "bin_start": 0.06693713366985321,
            "count": 41
           },
           {
            "bin_end": 0.18869813680648803,
            "bin_start": 0.12781763523817063,
            "count": 0
           },
           {
            "bin_end": 0.24957863837480543,
            "bin_start": 0.18869813680648803,
            "count": 0
           },
           {
            "bin_end": 0.31045913994312285,
            "bin_start": 0.24957863837480543,
            "count": 0
           },
           {
            "bin_end": 0.3713396415114403,
            "bin_start": 0.31045913994312285,
            "count": 0
           },
           {
            "bin_end": 0.43222014307975765,
            "bin_start": 0.3713396415114403,
            "count": 0
           },
           {
            "bin_end": 0.49310064464807507,
            "bin_start": 0.43222014307975765,
            "count": 0
           },
           {
            "bin_end": 0.5539811462163925,
            "bin_start": 0.49310064464807507,
            "count": 2
           },
           {
            "bin_end": 0.6148616477847099,
            "bin_start": 0.5539811462163925,
            "count": 0
           },
           {
            "bin_end": 0.6757421493530273,
            "bin_start": 0.6148616477847099,
            "count": 16
           }
          ],
          "max": "0.6757421493530273",
          "min": "0.06693713366985321",
          "nan_count": 0,
          "unique_count": 3
         }
        },
        {
         "dtype": "int64",
         "name": "_deepnote_index_column"
        }
       ],
       "row_count": 59,
       "rows": [
        {
         "_deepnote_index_column": 0,
         "id": 0,
         "label": 0,
         "prob": 0.06693713366985321
        },
        {
         "_deepnote_index_column": 1,
         "id": 1,
         "label": 0,
         "prob": 0.06693713366985321
        },
        {
         "_deepnote_index_column": 2,
         "id": 2,
         "label": 0,
         "prob": 0.06693713366985321
        },
        {
         "_deepnote_index_column": 3,
         "id": 3,
         "label": 0,
         "prob": 0.06693713366985321
        },
        {
         "_deepnote_index_column": 4,
         "id": 4,
         "label": 0,
         "prob": 0.06693713366985321
        },
        {
         "_deepnote_index_column": 5,
         "id": 5,
         "label": 0,
         "prob": 0.06693713366985321
        },
        {
         "_deepnote_index_column": 6,
         "id": 6,
         "label": 0,
         "prob": 0.06693713366985321
        },
        {
         "_deepnote_index_column": 7,
         "id": 7,
         "label": 0,
         "prob": 0.06693713366985321
        },
        {
         "_deepnote_index_column": 8,
         "id": 8,
         "label": 0,
         "prob": 0.06693713366985321
        },
        {
         "_deepnote_index_column": 9,
         "id": 9,
         "label": 0,
         "prob": 0.06693713366985321
        },
        {
         "_deepnote_index_column": 10,
         "id": 10,
         "label": 0,
         "prob": 0.06693713366985321
        },
        {
         "_deepnote_index_column": 11,
         "id": 11,
         "label": 1,
         "prob": 0.6757421493530273
        },
        {
         "_deepnote_index_column": 12,
         "id": 12,
         "label": 0,
         "prob": 0.06693713366985321
        },
        {
         "_deepnote_index_column": 13,
         "id": 13,
         "label": 0,
         "prob": 0.06693713366985321
        },
        {
         "_deepnote_index_column": 14,
         "id": 14,
         "label": 0,
         "prob": 0.06693713366985321
        },
        {
         "_deepnote_index_column": 15,
         "id": 15,
         "label": 0,
         "prob": 0.06693713366985321
        },
        {
         "_deepnote_index_column": 16,
         "id": 16,
         "label": 0,
         "prob": 0.06693713366985321
        },
        {
         "_deepnote_index_column": 17,
         "id": 17,
         "label": 0,
         "prob": 0.06693713366985321
        },
        {
         "_deepnote_index_column": 18,
         "id": 18,
         "label": 0,
         "prob": 0.06693713366985321
        },
        {
         "_deepnote_index_column": 19,
         "id": 19,
         "label": 0,
         "prob": 0.06693713366985321
        },
        {
         "_deepnote_index_column": 20,
         "id": 20,
         "label": 1,
         "prob": 0.6757421493530273
        },
        {
         "_deepnote_index_column": 21,
         "id": 21,
         "label": 1,
         "prob": 0.6757421493530273
        },
        {
         "_deepnote_index_column": 22,
         "id": 22,
         "label": 0,
         "prob": 0.06693713366985321
        },
        {
         "_deepnote_index_column": 23,
         "id": 23,
         "label": 0,
         "prob": 0.06693713366985321
        },
        {
         "_deepnote_index_column": 24,
         "id": 24,
         "label": 0,
         "prob": 0.06693713366985321
        },
        {
         "_deepnote_index_column": 25,
         "id": 25,
         "label": 1,
         "prob": 0.6757421493530273
        },
        {
         "_deepnote_index_column": 26,
         "id": 26,
         "label": 0,
         "prob": 0.06693713366985321
        },
        {
         "_deepnote_index_column": 27,
         "id": 27,
         "label": 0,
         "prob": 0.06693713366985321
        },
        {
         "_deepnote_index_column": 28,
         "id": 28,
         "label": 1,
         "prob": 0.6757421493530273
        },
        {
         "_deepnote_index_column": 29,
         "id": 29,
         "label": 0,
         "prob": 0.06693713366985321
        },
        {
         "_deepnote_index_column": 30,
         "id": 30,
         "label": 1,
         "prob": 0.6757421493530273
        },
        {
         "_deepnote_index_column": 31,
         "id": 31,
         "label": 1,
         "prob": 0.6757421493530273
        },
        {
         "_deepnote_index_column": 32,
         "id": 32,
         "label": 0,
         "prob": 0.06693713366985321
        },
        {
         "_deepnote_index_column": 33,
         "id": 33,
         "label": 1,
         "prob": 0.6757421493530273
        },
        {
         "_deepnote_index_column": 34,
         "id": 34,
         "label": 1,
         "prob": 0.6757421493530273
        },
        {
         "_deepnote_index_column": 35,
         "id": 35,
         "label": 0,
         "prob": 0.06693713366985321
        },
        {
         "_deepnote_index_column": 36,
         "id": 36,
         "label": 0,
         "prob": 0.06693713366985321
        },
        {
         "_deepnote_index_column": 37,
         "id": 37,
         "label": 1,
         "prob": 0.6757421493530273
        },
        {
         "_deepnote_index_column": 38,
         "id": 38,
         "label": 1,
         "prob": 0.6757421493530273
        },
        {
         "_deepnote_index_column": 39,
         "id": 39,
         "label": 0,
         "prob": 0.06693713366985321
        },
        {
         "_deepnote_index_column": 40,
         "id": 40,
         "label": 1,
         "prob": 0.6757421493530273
        },
        {
         "_deepnote_index_column": 41,
         "id": 41,
         "label": 0,
         "prob": 0.06693713366985321
        },
        {
         "_deepnote_index_column": 42,
         "id": 42,
         "label": 0,
         "prob": 0.06693713366985321
        },
        {
         "_deepnote_index_column": 43,
         "id": 43,
         "label": 0,
         "prob": 0.06693713366985321
        },
        {
         "_deepnote_index_column": 44,
         "id": 44,
         "label": 0,
         "prob": 0.06693713366985321
        },
        {
         "_deepnote_index_column": 45,
         "id": 45,
         "label": 0,
         "prob": 0.4938625991344452
        },
        {
         "_deepnote_index_column": 46,
         "id": 46,
         "label": 1,
         "prob": 0.6757421493530273
        },
        {
         "_deepnote_index_column": 47,
         "id": 47,
         "label": 0,
         "prob": 0.4938625991344452
        },
        {
         "_deepnote_index_column": 48,
         "id": 48,
         "label": 0,
         "prob": 0.06693713366985321
        },
        {
         "_deepnote_index_column": 49,
         "id": 49,
         "label": 0,
         "prob": 0.06693713366985321
        },
        {
         "_deepnote_index_column": 50,
         "id": 50,
         "label": 0,
         "prob": 0.06693713366985321
        },
        {
         "_deepnote_index_column": 51,
         "id": 51,
         "label": 0,
         "prob": 0.06693713366985321
        },
        {
         "_deepnote_index_column": 52,
         "id": 52,
         "label": 0,
         "prob": 0.06693713366985321
        },
        {
         "_deepnote_index_column": 53,
         "id": 53,
         "label": 0,
         "prob": 0.06693713366985321
        },
        {
         "_deepnote_index_column": 54,
         "id": 54,
         "label": 1,
         "prob": 0.6757421493530273
        },
        {
         "_deepnote_index_column": 55,
         "id": 55,
         "label": 0,
         "prob": 0.06693713366985321
        },
        {
         "_deepnote_index_column": 56,
         "id": 56,
         "label": 1,
         "prob": 0.6757421493530273
        },
        {
         "_deepnote_index_column": 57,
         "id": 57,
         "label": 0,
         "prob": 0.06693713366985321
        },
        {
         "_deepnote_index_column": 58,
         "id": 58,
         "label": 1,
         "prob": 0.6757421493530273
        }
       ]
      },
      "text/html": [
       "<div>\n",
       "<style scoped>\n",
       "    .dataframe tbody tr th:only-of-type {\n",
       "        vertical-align: middle;\n",
       "    }\n",
       "\n",
       "    .dataframe tbody tr th {\n",
       "        vertical-align: top;\n",
       "    }\n",
       "\n",
       "    .dataframe thead th {\n",
       "        text-align: right;\n",
       "    }\n",
       "</style>\n",
       "<table border=\"1\" class=\"dataframe\">\n",
       "  <thead>\n",
       "    <tr style=\"text-align: right;\">\n",
       "      <th></th>\n",
       "      <th>id</th>\n",
       "      <th>label</th>\n",
       "      <th>prob</th>\n",
       "    </tr>\n",
       "  </thead>\n",
       "  <tbody>\n",
       "    <tr>\n",
       "      <th>0</th>\n",
       "      <td>0</td>\n",
       "      <td>0</td>\n",
       "      <td>0.066937</td>\n",
       "    </tr>\n",
       "    <tr>\n",
       "      <th>1</th>\n",
       "      <td>1</td>\n",
       "      <td>0</td>\n",
       "      <td>0.066937</td>\n",
       "    </tr>\n",
       "    <tr>\n",
       "      <th>2</th>\n",
       "      <td>2</td>\n",
       "      <td>0</td>\n",
       "      <td>0.066937</td>\n",
       "    </tr>\n",
       "    <tr>\n",
       "      <th>3</th>\n",
       "      <td>3</td>\n",
       "      <td>0</td>\n",
       "      <td>0.066937</td>\n",
       "    </tr>\n",
       "    <tr>\n",
       "      <th>4</th>\n",
       "      <td>4</td>\n",
       "      <td>0</td>\n",
       "      <td>0.066937</td>\n",
       "    </tr>\n",
       "    <tr>\n",
       "      <th>5</th>\n",
       "      <td>5</td>\n",
       "      <td>0</td>\n",
       "      <td>0.066937</td>\n",
       "    </tr>\n",
       "    <tr>\n",
       "      <th>6</th>\n",
       "      <td>6</td>\n",
       "      <td>0</td>\n",
       "      <td>0.066937</td>\n",
       "    </tr>\n",
       "    <tr>\n",
       "      <th>7</th>\n",
       "      <td>7</td>\n",
       "      <td>0</td>\n",
       "      <td>0.066937</td>\n",
       "    </tr>\n",
       "    <tr>\n",
       "      <th>8</th>\n",
       "      <td>8</td>\n",
       "      <td>0</td>\n",
       "      <td>0.066937</td>\n",
       "    </tr>\n",
       "    <tr>\n",
       "      <th>9</th>\n",
       "      <td>9</td>\n",
       "      <td>0</td>\n",
       "      <td>0.066937</td>\n",
       "    </tr>\n",
       "    <tr>\n",
       "      <th>10</th>\n",
       "      <td>10</td>\n",
       "      <td>0</td>\n",
       "      <td>0.066937</td>\n",
       "    </tr>\n",
       "    <tr>\n",
       "      <th>11</th>\n",
       "      <td>11</td>\n",
       "      <td>1</td>\n",
       "      <td>0.675742</td>\n",
       "    </tr>\n",
       "    <tr>\n",
       "      <th>12</th>\n",
       "      <td>12</td>\n",
       "      <td>0</td>\n",
       "      <td>0.066937</td>\n",
       "    </tr>\n",
       "    <tr>\n",
       "      <th>13</th>\n",
       "      <td>13</td>\n",
       "      <td>0</td>\n",
       "      <td>0.066937</td>\n",
       "    </tr>\n",
       "    <tr>\n",
       "      <th>14</th>\n",
       "      <td>14</td>\n",
       "      <td>0</td>\n",
       "      <td>0.066937</td>\n",
       "    </tr>\n",
       "    <tr>\n",
       "      <th>15</th>\n",
       "      <td>15</td>\n",
       "      <td>0</td>\n",
       "      <td>0.066937</td>\n",
       "    </tr>\n",
       "    <tr>\n",
       "      <th>16</th>\n",
       "      <td>16</td>\n",
       "      <td>0</td>\n",
       "      <td>0.066937</td>\n",
       "    </tr>\n",
       "    <tr>\n",
       "      <th>17</th>\n",
       "      <td>17</td>\n",
       "      <td>0</td>\n",
       "      <td>0.066937</td>\n",
       "    </tr>\n",
       "    <tr>\n",
       "      <th>18</th>\n",
       "      <td>18</td>\n",
       "      <td>0</td>\n",
       "      <td>0.066937</td>\n",
       "    </tr>\n",
       "    <tr>\n",
       "      <th>19</th>\n",
       "      <td>19</td>\n",
       "      <td>0</td>\n",
       "      <td>0.066937</td>\n",
       "    </tr>\n",
       "    <tr>\n",
       "      <th>20</th>\n",
       "      <td>20</td>\n",
       "      <td>1</td>\n",
       "      <td>0.675742</td>\n",
       "    </tr>\n",
       "    <tr>\n",
       "      <th>21</th>\n",
       "      <td>21</td>\n",
       "      <td>1</td>\n",
       "      <td>0.675742</td>\n",
       "    </tr>\n",
       "    <tr>\n",
       "      <th>22</th>\n",
       "      <td>22</td>\n",
       "      <td>0</td>\n",
       "      <td>0.066937</td>\n",
       "    </tr>\n",
       "    <tr>\n",
       "      <th>23</th>\n",
       "      <td>23</td>\n",
       "      <td>0</td>\n",
       "      <td>0.066937</td>\n",
       "    </tr>\n",
       "    <tr>\n",
       "      <th>24</th>\n",
       "      <td>24</td>\n",
       "      <td>0</td>\n",
       "      <td>0.066937</td>\n",
       "    </tr>\n",
       "    <tr>\n",
       "      <th>25</th>\n",
       "      <td>25</td>\n",
       "      <td>1</td>\n",
       "      <td>0.675742</td>\n",
       "    </tr>\n",
       "    <tr>\n",
       "      <th>26</th>\n",
       "      <td>26</td>\n",
       "      <td>0</td>\n",
       "      <td>0.066937</td>\n",
       "    </tr>\n",
       "    <tr>\n",
       "      <th>27</th>\n",
       "      <td>27</td>\n",
       "      <td>0</td>\n",
       "      <td>0.066937</td>\n",
       "    </tr>\n",
       "    <tr>\n",
       "      <th>28</th>\n",
       "      <td>28</td>\n",
       "      <td>1</td>\n",
       "      <td>0.675742</td>\n",
       "    </tr>\n",
       "    <tr>\n",
       "      <th>29</th>\n",
       "      <td>29</td>\n",
       "      <td>0</td>\n",
       "      <td>0.066937</td>\n",
       "    </tr>\n",
       "    <tr>\n",
       "      <th>30</th>\n",
       "      <td>30</td>\n",
       "      <td>1</td>\n",
       "      <td>0.675742</td>\n",
       "    </tr>\n",
       "    <tr>\n",
       "      <th>31</th>\n",
       "      <td>31</td>\n",
       "      <td>1</td>\n",
       "      <td>0.675742</td>\n",
       "    </tr>\n",
       "    <tr>\n",
       "      <th>32</th>\n",
       "      <td>32</td>\n",
       "      <td>0</td>\n",
       "      <td>0.066937</td>\n",
       "    </tr>\n",
       "    <tr>\n",
       "      <th>33</th>\n",
       "      <td>33</td>\n",
       "      <td>1</td>\n",
       "      <td>0.675742</td>\n",
       "    </tr>\n",
       "    <tr>\n",
       "      <th>34</th>\n",
       "      <td>34</td>\n",
       "      <td>1</td>\n",
       "      <td>0.675742</td>\n",
       "    </tr>\n",
       "    <tr>\n",
       "      <th>35</th>\n",
       "      <td>35</td>\n",
       "      <td>0</td>\n",
       "      <td>0.066937</td>\n",
       "    </tr>\n",
       "    <tr>\n",
       "      <th>36</th>\n",
       "      <td>36</td>\n",
       "      <td>0</td>\n",
       "      <td>0.066937</td>\n",
       "    </tr>\n",
       "    <tr>\n",
       "      <th>37</th>\n",
       "      <td>37</td>\n",
       "      <td>1</td>\n",
       "      <td>0.675742</td>\n",
       "    </tr>\n",
       "    <tr>\n",
       "      <th>38</th>\n",
       "      <td>38</td>\n",
       "      <td>1</td>\n",
       "      <td>0.675742</td>\n",
       "    </tr>\n",
       "    <tr>\n",
       "      <th>39</th>\n",
       "      <td>39</td>\n",
       "      <td>0</td>\n",
       "      <td>0.066937</td>\n",
       "    </tr>\n",
       "    <tr>\n",
       "      <th>40</th>\n",
       "      <td>40</td>\n",
       "      <td>1</td>\n",
       "      <td>0.675742</td>\n",
       "    </tr>\n",
       "    <tr>\n",
       "      <th>41</th>\n",
       "      <td>41</td>\n",
       "      <td>0</td>\n",
       "      <td>0.066937</td>\n",
       "    </tr>\n",
       "    <tr>\n",
       "      <th>42</th>\n",
       "      <td>42</td>\n",
       "      <td>0</td>\n",
       "      <td>0.066937</td>\n",
       "    </tr>\n",
       "    <tr>\n",
       "      <th>43</th>\n",
       "      <td>43</td>\n",
       "      <td>0</td>\n",
       "      <td>0.066937</td>\n",
       "    </tr>\n",
       "    <tr>\n",
       "      <th>44</th>\n",
       "      <td>44</td>\n",
       "      <td>0</td>\n",
       "      <td>0.066937</td>\n",
       "    </tr>\n",
       "    <tr>\n",
       "      <th>45</th>\n",
       "      <td>45</td>\n",
       "      <td>0</td>\n",
       "      <td>0.493863</td>\n",
       "    </tr>\n",
       "    <tr>\n",
       "      <th>46</th>\n",
       "      <td>46</td>\n",
       "      <td>1</td>\n",
       "      <td>0.675742</td>\n",
       "    </tr>\n",
       "    <tr>\n",
       "      <th>47</th>\n",
       "      <td>47</td>\n",
       "      <td>0</td>\n",
       "      <td>0.493863</td>\n",
       "    </tr>\n",
       "    <tr>\n",
       "      <th>48</th>\n",
       "      <td>48</td>\n",
       "      <td>0</td>\n",
       "      <td>0.066937</td>\n",
       "    </tr>\n",
       "    <tr>\n",
       "      <th>49</th>\n",
       "      <td>49</td>\n",
       "      <td>0</td>\n",
       "      <td>0.066937</td>\n",
       "    </tr>\n",
       "    <tr>\n",
       "      <th>50</th>\n",
       "      <td>50</td>\n",
       "      <td>0</td>\n",
       "      <td>0.066937</td>\n",
       "    </tr>\n",
       "    <tr>\n",
       "      <th>51</th>\n",
       "      <td>51</td>\n",
       "      <td>0</td>\n",
       "      <td>0.066937</td>\n",
       "    </tr>\n",
       "    <tr>\n",
       "      <th>52</th>\n",
       "      <td>52</td>\n",
       "      <td>0</td>\n",
       "      <td>0.066937</td>\n",
       "    </tr>\n",
       "    <tr>\n",
       "      <th>53</th>\n",
       "      <td>53</td>\n",
       "      <td>0</td>\n",
       "      <td>0.066937</td>\n",
       "    </tr>\n",
       "    <tr>\n",
       "      <th>54</th>\n",
       "      <td>54</td>\n",
       "      <td>1</td>\n",
       "      <td>0.675742</td>\n",
       "    </tr>\n",
       "    <tr>\n",
       "      <th>55</th>\n",
       "      <td>55</td>\n",
       "      <td>0</td>\n",
       "      <td>0.066937</td>\n",
       "    </tr>\n",
       "    <tr>\n",
       "      <th>56</th>\n",
       "      <td>56</td>\n",
       "      <td>1</td>\n",
       "      <td>0.675742</td>\n",
       "    </tr>\n",
       "    <tr>\n",
       "      <th>57</th>\n",
       "      <td>57</td>\n",
       "      <td>0</td>\n",
       "      <td>0.066937</td>\n",
       "    </tr>\n",
       "    <tr>\n",
       "      <th>58</th>\n",
       "      <td>58</td>\n",
       "      <td>1</td>\n",
       "      <td>0.675742</td>\n",
       "    </tr>\n",
       "  </tbody>\n",
       "</table>\n",
       "</div>"
      ],
      "text/plain": [
       "    id  label      prob\n",
       "0    0      0  0.066937\n",
       "1    1      0  0.066937\n",
       "2    2      0  0.066937\n",
       "3    3      0  0.066937\n",
       "4    4      0  0.066937\n",
       "5    5      0  0.066937\n",
       "6    6      0  0.066937\n",
       "7    7      0  0.066937\n",
       "8    8      0  0.066937\n",
       "9    9      0  0.066937\n",
       "10  10      0  0.066937\n",
       "11  11      1  0.675742\n",
       "12  12      0  0.066937\n",
       "13  13      0  0.066937\n",
       "14  14      0  0.066937\n",
       "15  15      0  0.066937\n",
       "16  16      0  0.066937\n",
       "17  17      0  0.066937\n",
       "18  18      0  0.066937\n",
       "19  19      0  0.066937\n",
       "20  20      1  0.675742\n",
       "21  21      1  0.675742\n",
       "22  22      0  0.066937\n",
       "23  23      0  0.066937\n",
       "24  24      0  0.066937\n",
       "25  25      1  0.675742\n",
       "26  26      0  0.066937\n",
       "27  27      0  0.066937\n",
       "28  28      1  0.675742\n",
       "29  29      0  0.066937\n",
       "30  30      1  0.675742\n",
       "31  31      1  0.675742\n",
       "32  32      0  0.066937\n",
       "33  33      1  0.675742\n",
       "34  34      1  0.675742\n",
       "35  35      0  0.066937\n",
       "36  36      0  0.066937\n",
       "37  37      1  0.675742\n",
       "38  38      1  0.675742\n",
       "39  39      0  0.066937\n",
       "40  40      1  0.675742\n",
       "41  41      0  0.066937\n",
       "42  42      0  0.066937\n",
       "43  43      0  0.066937\n",
       "44  44      0  0.066937\n",
       "45  45      0  0.493863\n",
       "46  46      1  0.675742\n",
       "47  47      0  0.493863\n",
       "48  48      0  0.066937\n",
       "49  49      0  0.066937\n",
       "50  50      0  0.066937\n",
       "51  51      0  0.066937\n",
       "52  52      0  0.066937\n",
       "53  53      0  0.066937\n",
       "54  54      1  0.675742\n",
       "55  55      0  0.066937\n",
       "56  56      1  0.675742\n",
       "57  57      0  0.066937\n",
       "58  58      1  0.675742"
      ]
     },
     "execution_count": 52,
     "metadata": {},
     "output_type": "execute_result"
    }
   ],
   "source": [
    "pd.DataFrame({\"id\":df_test.id,\"label\":y_res,\"prob\":y_prob})"
   ]
  },
  {
   "cell_type": "code",
   "execution_count": null,
   "metadata": {
    "cell_id": "c8e6c50b-fb8e-4f99-adbe-674a08469cba",
    "deepnote_cell_height": 906.515625,
    "deepnote_cell_type": "code",
    "deepnote_output_heights": [
     null,
     612
    ],
    "deepnote_to_be_reexecuted": false,
    "execution_millis": 34708,
    "execution_start": 1646101570485,
    "source_hash": "7753cfc7",
    "tags": []
   },
   "outputs": [
    {
     "data": {
      "text/plain": [
       "<seaborn.axisgrid.PairGrid at 0x7fdbb282e710>"
      ]
     },
     "execution_count": 22,
     "metadata": {},
     "output_type": "execute_result"
    },
    {
     "data": {
      "image/png": "[encoded data removed]",
      "text/plain": [
       "<Figure size 2340x2340 with 182 Axes>"
      ]
     },
     "metadata": {
      "image/png": {
       "height": 2293,
       "width": 2305
      },
      "needs_background": "light"
     },
     "output_type": "display_data"
    }
   ],
   "source": [
    "import seaborn as sns\n",
    "col = col_X\n",
    "col.append(\"label\")\n",
    "df = df_train[col]\n",
    "g = sns.PairGrid(df_train)\n",
    "g.map_upper(sns.histplot)\n",
    "g.map_lower(sns.kdeplot, fill=True)\n",
    "g.map_diag(sns.histplot, kde=True)\n"
   ]
  },
  {
   "cell_type": "code",
   "execution_count": null,
   "metadata": {
    "cell_id": "add7c33d-6d01-4b15-a13a-84a80de314d2",
    "deepnote_cell_height": 624,
    "deepnote_cell_type": "code",
    "deepnote_to_be_reexecuted": false,
    "execution_millis": 248,
    "execution_start": 1646101644866,
    "source_hash": "e7a4a97c",
    "tags": []
   },
   "outputs": [
    {
     "data": {
      "application/vnd.deepnote.dataframe.v3+json": {
       "column_count": 14,
       "columns": [
        {
         "dtype": "int64",
         "name": "id",
         "stats": {
          "histogram": [
           {
            "bin_end": 8.6,
            "bin_start": 0,
            "count": 9
           },
           {
            "bin_end": 17.2,
            "bin_start": 8.6,
            "count": 9
           },
           {
            "bin_end": 25.799999999999997,
            "bin_start": 17.2,
            "count": 8
           },
           {
            "bin_end": 34.4,
            "bin_start": 25.799999999999997,
            "count": 9
           },
           {
            "bin_end": 43,
            "bin_start": 34.4,
            "count": 8
           },
           {
            "bin_end": 51.599999999999994,
            "bin_start": 43,
            "count": 9
           },
           {
            "bin_end": 60.199999999999996,
            "bin_start": 51.599999999999994,
            "count": 9
           },
           {
            "bin_end": 68.8,
            "bin_start": 60.199999999999996,
            "count": 8
           },
           {
            "bin_end": 77.39999999999999,
            "bin_start": 68.8,
            "count": 9
           },
           {
            "bin_end": 86,
            "bin_start": 77.39999999999999,
            "count": 9
           }
          ],
          "max": "86",
          "min": "0",
          "nan_count": 0,
          "unique_count": 87
         }
        },
        {
         "dtype": "float64",
         "name": "MO HLADR+ MFI (cells/ul)",
         "stats": {
          "histogram": [
           {
            "bin_end": 515.3,
            "bin_start": 112,
            "count": 12
           },
           {
            "bin_end": 918.6,
            "bin_start": 515.3,
            "count": 18
           },
           {
            "bin_end": 1321.9,
            "bin_start": 918.6,
            "count": 23
           },
           {
            "bin_end": 1725.2,
            "bin_start": 1321.9,
            "count": 15
           },
           {
            "bin_end": 2128.5,
            "bin_start": 1725.2,
            "count": 7
           },
           {
            "bin_end": 2531.8,
            "bin_start": 2128.5,
            "count": 6
           },
           {
            "bin_end": 2935.1,
            "bin_start": 2531.8,
            "count": 2
           },
           {
            "bin_end": 3338.4,
            "bin_start": 2935.1,
            "count": 1
           },
           {
            "bin_end": 3741.7000000000003,
            "bin_start": 3338.4,
            "count": 1
           },
           {
            "bin_end": 4145,
            "bin_start": 3741.7000000000003,
            "count": 1
           }
          ],
          "max": "4145.0",
          "min": "112.0",
          "nan_count": 1,
          "unique_count": 84
         }
        },
        {
         "dtype": "float64",
         "name": "Neu CD64+MFI (cells/ul)",
         "stats": {
          "histogram": [
           {
            "bin_end": 339.4,
            "bin_start": 30,
            "count": 70
           },
           {
            "bin_end": 648.8,
            "bin_start": 339.4,
            "count": 8
           },
           {
            "bin_end": 958.1999999999999,
            "bin_start": 648.8,
            "count": 1
           },
           {
            "bin_end": 1267.6,
            "bin_start": 958.1999999999999,
            "count": 3
           },
           {
            "bin_end": 1577,
            "bin_start": 1267.6,
            "count": 2
           },
           {
            "bin_end": 1886.3999999999999,
            "bin_start": 1577,
            "count": 0
           },
           {
            "bin_end": 2195.7999999999997,
            "bin_start": 1886.3999999999999,
            "count": 0
           },
           {
            "bin_end": 2505.2,
            "bin_start": 2195.7999999999997,
            "count": 1
           },
           {
            "bin_end": 2814.6,
            "bin_start": 2505.2,
            "count": 0
           },
           {
            "bin_end": 3124,
            "bin_start": 2814.6,
            "count": 1
           }
          ],
          "max": "3124.0",
          "min": "30.0",
          "nan_count": 1,
          "unique_count": 71
         }
        },
        {
         "dtype": "float64",
         "name": "CD3+T (cells/ul)",
         "stats": {
          "histogram": [
           {
            "bin_end": 446.08299999999997,
            "bin_start": 74.4,
            "count": 15
           },
           {
            "bin_end": 817.766,
            "bin_start": 446.08299999999997,
            "count": 26
           },
           {
            "bin_end": 1189.449,
            "bin_start": 817.766,
            "count": 22
           },
           {
            "bin_end": 1561.132,
            "bin_start": 1189.449,
            "count": 14
           },
           {
            "bin_end": 1932.815,
            "bin_start": 1561.132,
            "count": 6
           },
           {
            "bin_end": 2304.498,
            "bin_start": 1932.815,
            "count": 0
           },
           {
            "bin_end": 2676.181,
            "bin_start": 2304.498,
            "count": 1
           },
           {
            "bin_end": 3047.864,
            "bin_start": 2676.181,
            "count": 2
           },
           {
            "bin_end": 3419.547,
            "bin_start": 3047.864,
            "count": 0
           },
           {
            "bin_end": 3791.23,
            "bin_start": 3419.547,
            "count": 1
           }
          ],
          "max": "3791.23",
          "min": "74.4",
          "nan_count": 0,
          "unique_count": 85
         }
        },
        {
         "dtype": "float64",
         "name": "CD8+T (cells/ul)",
         "stats": {
          "histogram": [
           {
            "bin_end": 287.75899999999996,
            "bin_start": 36.61,
            "count": 27
           },
           {
            "bin_end": 538.9079999999999,
            "bin_start": 287.75899999999996,
            "count": 27
           },
           {
            "bin_end": 790.0569999999999,
            "bin_start": 538.9079999999999,
            "count": 24
           },
           {
            "bin_end": 1041.206,
            "bin_start": 790.0569999999999,
            "count": 5
           },
           {
            "bin_end": 1292.3549999999998,
            "bin_start": 1041.206,
            "count": 2
           },
           {
            "bin_end": 1543.5039999999997,
            "bin_start": 1292.3549999999998,
            "count": 1
           },
           {
            "bin_end": 1794.6529999999998,
            "bin_start": 1543.5039999999997,
            "count": 0
           },
           {
            "bin_end": 2045.8019999999997,
            "bin_start": 1794.6529999999998,
            "count": 0
           },
           {
            "bin_end": 2296.951,
            "bin_start": 2045.8019999999997,
            "count": 0
           },
           {
            "bin_end": 2548.1,
            "bin_start": 2296.951,
            "count": 1
           }
          ],
          "max": "2548.1",
          "min": "36.61",
          "nan_count": 0,
          "unique_count": 85
         }
        },
        {
         "dtype": "float64",
         "name": "CD4+T (cells/ul)",
         "stats": {
          "histogram": [
           {
            "bin_end": 187.412,
            "bin_start": 39.59,
            "count": 13
           },
           {
            "bin_end": 335.23400000000004,
            "bin_start": 187.412,
            "count": 21
           },
           {
            "bin_end": 483.05600000000004,
            "bin_start": 335.23400000000004,
            "count": 12
           },
           {
            "bin_end": 630.878,
            "bin_start": 483.05600000000004,
            "count": 20
           },
           {
            "bin_end": 778.7,
            "bin_start": 630.878,
            "count": 7
           },
           {
            "bin_end": 926.522,
            "bin_start": 778.7,
            "count": 7
           },
           {
            "bin_end": 1074.3439999999998,
            "bin_start": 926.522,
            "count": 0
           },
           {
            "bin_end": 1222.166,
            "bin_start": 1074.3439999999998,
            "count": 3
           },
           {
            "bin_end": 1369.988,
            "bin_start": 1222.166,
            "count": 2
           },
           {
            "bin_end": 1517.81,
            "bin_start": 1369.988,
            "count": 2
           }
          ],
          "max": "1517.81",
          "min": "39.59",
          "nan_count": 0,
          "unique_count": 85
         }
        },
        {
         "dtype": "float64",
         "name": "NK (cells/ul)",
         "stats": {
          "histogram": [
           {
            "bin_end": 87.804,
            "bin_start": 0,
            "count": 24
           },
           {
            "bin_end": 175.608,
            "bin_start": 87.804,
            "count": 16
           },
           {
            "bin_end": 263.41200000000003,
            "bin_start": 175.608,
            "count": 25
           },
           {
            "bin_end": 351.216,
            "bin_start": 263.41200000000003,
            "count": 11
           },
           {
            "bin_end": 439.02,
            "bin_start": 351.216,
            "count": 2
           },
           {
            "bin_end": 526.8240000000001,
            "bin_start": 439.02,
            "count": 4
           },
           {
            "bin_end": 614.628,
            "bin_start": 526.8240000000001,
            "count": 2
           },
           {
            "bin_end": 702.432,
            "bin_start": 614.628,
            "count": 0
           },
           {
            "bin_end": 790.236,
            "bin_start": 702.432,
            "count": 1
           },
           {
            "bin_end": 878.04,
            "bin_start": 790.236,
            "count": 2
           }
          ],
          "max": "878.04",
          "min": "0.0",
          "nan_count": 0,
          "unique_count": 85
         }
        },
        {
         "dtype": "float64",
         "name": "CD19+ (cells/ul)",
         "stats": {
          "histogram": [
           {
            "bin_end": 52.36600000000001,
            "bin_start": 4.2,
            "count": 22
           },
           {
            "bin_end": 100.53200000000001,
            "bin_start": 52.36600000000001,
            "count": 26
           },
           {
            "bin_end": 148.698,
            "bin_start": 100.53200000000001,
            "count": 16
           },
           {
            "bin_end": 196.864,
            "bin_start": 148.698,
            "count": 8
           },
           {
            "bin_end": 245.03,
            "bin_start": 196.864,
            "count": 6
           },
           {
            "bin_end": 293.196,
            "bin_start": 245.03,
            "count": 4
           },
           {
            "bin_end": 341.362,
            "bin_start": 293.196,
            "count": 0
           },
           {
            "bin_end": 389.528,
            "bin_start": 341.362,
            "count": 1
           },
           {
            "bin_end": 437.694,
            "bin_start": 389.528,
            "count": 3
           },
           {
            "bin_end": 485.86,
            "bin_start": 437.694,
            "count": 1
           }
          ],
          "max": "485.86",
          "min": "4.2",
          "nan_count": 0,
          "unique_count": 86
         }
        },
        {
         "dtype": "float64",
         "name": "CD45+ (cells/ul)",
         "stats": {
          "histogram": [
           {
            "bin_end": 664.053,
            "bin_start": 209.25,
            "count": 16
           },
           {
            "bin_end": 1118.856,
            "bin_start": 664.053,
            "count": 22
           },
           {
            "bin_end": 1573.659,
            "bin_start": 1118.856,
            "count": 26
           },
           {
            "bin_end": 2028.462,
            "bin_start": 1573.659,
            "count": 8
           },
           {
            "bin_end": 2483.265,
            "bin_start": 2028.462,
            "count": 11
           },
           {
            "bin_end": 2938.068,
            "bin_start": 2483.265,
            "count": 0
           },
           {
            "bin_end": 3392.871,
            "bin_start": 2938.068,
            "count": 2
           },
           {
            "bin_end": 3847.674,
            "bin_start": 3392.871,
            "count": 1
           },
           {
            "bin_end": 4302.477,
            "bin_start": 3847.674,
            "count": 0
           },
           {
            "bin_end": 4757.28,
            "bin_start": 4302.477,
            "count": 1
           }
          ],
          "max": "4757.28",
          "min": "209.25",
          "nan_count": 0,
          "unique_count": 85
         }
        },
        {
         "dtype": "int64",
         "name": "Age",
         "stats": {
          "histogram": [
           {
            "bin_end": 23.1,
            "bin_start": 19,
            "count": 7
           },
           {
            "bin_end": 27.2,
            "bin_start": 23.1,
            "count": 4
           },
           {
            "bin_end": 31.299999999999997,
            "bin_start": 27.2,
            "count": 7
           },
           {
            "bin_end": 35.4,
            "bin_start": 31.299999999999997,
            "count": 13
           },
           {
            "bin_end": 39.5,
            "bin_start": 35.4,
            "count": 7
           },
           {
            "bin_end": 43.599999999999994,
            "bin_start": 39.5,
            "count": 17
           },
           {
            "bin_end": 47.699999999999996,
            "bin_start": 43.599999999999994,
            "count": 3
           },
           {
            "bin_end": 51.8,
            "bin_start": 47.699999999999996,
            "count": 17
           },
           {
            "bin_end": 55.9,
            "bin_start": 51.8,
            "count": 8
           },
           {
            "bin_end": 60,
            "bin_start": 55.9,
            "count": 4
           }
          ],
          "max": "60",
          "min": "19",
          "nan_count": 0,
          "unique_count": 34
         }
        },
        {
         "dtype": "int64",
         "name": "Sex 0M1F",
         "stats": {
          "histogram": [
           {
            "bin_end": 0.1,
            "bin_start": 0,
            "count": 45
           },
           {
            "bin_end": 0.2,
            "bin_start": 0.1,
            "count": 0
           },
           {
            "bin_end": 0.30000000000000004,
            "bin_start": 0.2,
            "count": 0
           },
           {
            "bin_end": 0.4,
            "bin_start": 0.30000000000000004,
            "count": 0
           },
           {
            "bin_end": 0.5,
            "bin_start": 0.4,
            "count": 0
           },
           {
            "bin_end": 0.6000000000000001,
            "bin_start": 0.5,
            "count": 0
           },
           {
            "bin_end": 0.7000000000000001,
            "bin_start": 0.6000000000000001,
            "count": 0
           },
           {
            "bin_end": 0.8,
            "bin_start": 0.7000000000000001,
            "count": 0
           },
           {
            "bin_end": 0.9,
            "bin_start": 0.8,
            "count": 0
           },
           {
            "bin_end": 1,
            "bin_start": 0.9,
            "count": 42
           }
          ],
          "max": "1",
          "min": "0",
          "nan_count": 0,
          "unique_count": 2
         }
        },
        {
         "dtype": "float64",
         "name": "Mono CD64+MFI (cells/ul)",
         "stats": {
          "histogram": [
           {
            "bin_end": 816.3,
            "bin_start": 72,
            "count": 6
           },
           {
            "bin_end": 1560.6,
            "bin_start": 816.3,
            "count": 22
           },
           {
            "bin_end": 2304.8999999999996,
            "bin_start": 1560.6,
            "count": 37
           },
           {
            "bin_end": 3049.2,
            "bin_start": 2304.8999999999996,
            "count": 9
           },
           {
            "bin_end": 3793.5,
            "bin_start": 3049.2,
            "count": 3
           },
           {
            "bin_end": 4537.799999999999,
            "bin_start": 3793.5,
            "count": 4
           },
           {
            "bin_end": 5282.099999999999,
            "bin_start": 4537.799999999999,
            "count": 3
           },
           {
            "bin_end": 6026.4,
            "bin_start": 5282.099999999999,
            "count": 1
           },
           {
            "bin_end": 6770.7,
            "bin_start": 6026.4,
            "count": 0
           },
           {
            "bin_end": 7515,
            "bin_start": 6770.7,
            "count": 1
           }
          ],
          "max": "7515.0",
          "min": "72.0",
          "nan_count": 1,
          "unique_count": 83
         }
        },
        {
         "dtype": "int64",
         "name": "label",
         "stats": {
          "histogram": [
           {
            "bin_end": 0.1,
            "bin_start": 0,
            "count": 58
           },
           {
            "bin_end": 0.2,
            "bin_start": 0.1,
            "count": 0
           },
           {
            "bin_end": 0.30000000000000004,
            "bin_start": 0.2,
            "count": 0
           },
           {
            "bin_end": 0.4,
            "bin_start": 0.30000000000000004,
            "count": 0
           },
           {
            "bin_end": 0.5,
            "bin_start": 0.4,
            "count": 0
           },
           {
            "bin_end": 0.6000000000000001,
            "bin_start": 0.5,
            "count": 0
           },
           {
            "bin_end": 0.7000000000000001,
            "bin_start": 0.6000000000000001,
            "count": 0
           },
           {
            "bin_end": 0.8,
            "bin_start": 0.7000000000000001,
            "count": 0
           },
           {
            "bin_end": 0.9,
            "bin_start": 0.8,
            "count": 0
           },
           {
            "bin_end": 1,
            "bin_start": 0.9,
            "count": 29
           }
          ],
          "max": "1",
          "min": "0",
          "nan_count": 0,
          "unique_count": 2
         }
        },
        {
         "dtype": "object",
         "name": "AgeGroup",
         "stats": {
          "categories": [
           {
            "count": 27,
            "name": "3.35-44"
           },
           {
            "count": 25,
            "name": "4.45-54"
           },
           {
            "count": 35,
            "name": "3 others"
           }
          ],
          "nan_count": 0,
          "unique_count": 5
         }
        },
        {
         "dtype": "int64",
         "name": "_deepnote_index_column"
        }
       ],
       "row_count": 87,
       "rows": [
        {
         "Age": 52,
         "AgeGroup": "4.45-54",
         "CD19+ (cells/ul)": 4.2,
         "CD3+T (cells/ul)": 265.19,
         "CD4+T (cells/ul)": 176.55,
         "CD45+ (cells/ul)": 307.91,
         "CD8+T (cells/ul)": 77.53,
         "MO HLADR+ MFI (cells/ul)": 3556,
         "Mono CD64+MFI (cells/ul)": 7515,
         "NK (cells/ul)": 0,
         "Neu CD64+MFI (cells/ul)": 2489,
         "Sex 0M1F": 0,
         "_deepnote_index_column": 0,
         "id": 0,
         "label": 1
        },
        {
         "Age": 20,
         "AgeGroup": "1.<25",
         "CD19+ (cells/ul)": 168.15,
         "CD3+T (cells/ul)": 1442.61,
         "CD4+T (cells/ul)": 876.07,
         "CD45+ (cells/ul)": 1735.48,
         "CD8+T (cells/ul)": 551.9,
         "MO HLADR+ MFI (cells/ul)": 1906,
         "Mono CD64+MFI (cells/ul)": 1756,
         "NK (cells/ul)": 112.1,
         "Neu CD64+MFI (cells/ul)": 134,
         "Sex 0M1F": 1,
         "_deepnote_index_column": 1,
         "id": 1,
         "label": 0
        },
        {
         "Age": 28,
         "AgeGroup": "2.25-34",
         "CD19+ (cells/ul)": 216.52,
         "CD3+T (cells/ul)": 1332.74,
         "CD4+T (cells/ul)": 655.26,
         "CD45+ (cells/ul)": 1820.04,
         "CD8+T (cells/ul)": 684.2,
         "MO HLADR+ MFI (cells/ul)": 1586,
         "Mono CD64+MFI (cells/ul)": 1311,
         "NK (cells/ul)": 244.95,
         "Neu CD64+MFI (cells/ul)": 71,
         "Sex 0M1F": 1,
         "_deepnote_index_column": 2,
         "id": 2,
         "label": 0
        },
        {
         "Age": 55,
         "AgeGroup": "5.55-64",
         "CD19+ (cells/ul)": 44.68,
         "CD3+T (cells/ul)": 419.23,
         "CD4+T (cells/ul)": 162.17,
         "CD45+ (cells/ul)": 538.22,
         "CD8+T (cells/ul)": 255.8,
         "MO HLADR+ MFI (cells/ul)": 683,
         "Mono CD64+MFI (cells/ul)": 1443,
         "NK (cells/ul)": 72.05,
         "Neu CD64+MFI (cells/ul)": 94,
         "Sex 0M1F": 1,
         "_deepnote_index_column": 3,
         "id": 3,
         "label": 0
        },
        {
         "Age": 28,
         "AgeGroup": "2.25-34",
         "CD19+ (cells/ul)": 130.77,
         "CD3+T (cells/ul)": 1102.72,
         "CD4+T (cells/ul)": 625.3,
         "CD45+ (cells/ul)": 1427.97,
         "CD8+T (cells/ul)": 480.27,
         "MO HLADR+ MFI (cells/ul)": 1032,
         "Mono CD64+MFI (cells/ul)": 1542,
         "NK (cells/ul)": 188.78,
         "Neu CD64+MFI (cells/ul)": 71,
         "Sex 0M1F": 1,
         "_deepnote_index_column": 4,
         "id": 4,
         "label": 0
        },
        {
         "Age": 42,
         "AgeGroup": "3.35-44",
         "CD19+ (cells/ul)": 119.46,
         "CD3+T (cells/ul)": 1719.32,
         "CD4+T (cells/ul)": 842.94,
         "CD45+ (cells/ul)": 2143.66,
         "CD8+T (cells/ul)": 885.94,
         "MO HLADR+ MFI (cells/ul)": 495,
         "Mono CD64+MFI (cells/ul)": 1827,
         "NK (cells/ul)": 271.42,
         "Neu CD64+MFI (cells/ul)": 143,
         "Sex 0M1F": 1,
         "_deepnote_index_column": 5,
         "id": 5,
         "label": 1
        },
        {
         "Age": 42,
         "AgeGroup": "3.35-44",
         "CD19+ (cells/ul)": 82.81,
         "CD3+T (cells/ul)": 813.73,
         "CD4+T (cells/ul)": 276.28,
         "CD45+ (cells/ul)": 1179.27,
         "CD8+T (cells/ul)": 541.23,
         "MO HLADR+ MFI (cells/ul)": 1517,
         "Mono CD64+MFI (cells/ul)": 1784,
         "NK (cells/ul)": 258.81,
         "Neu CD64+MFI (cells/ul)": 76,
         "Sex 0M1F": 0,
         "_deepnote_index_column": 6,
         "id": 6,
         "label": 0
        },
        {
         "Age": 41,
         "AgeGroup": "3.35-44",
         "CD19+ (cells/ul)": 85.38,
         "CD3+T (cells/ul)": 642.98,
         "CD4+T (cells/ul)": 316.59,
         "CD45+ (cells/ul)": 899.51,
         "CD8+T (cells/ul)": 329.66,
         "MO HLADR+ MFI (cells/ul)": 2623,
         "Mono CD64+MFI (cells/ul)": 1620,
         "NK (cells/ul)": 167.89,
         "Neu CD64+MFI (cells/ul)": 126,
         "Sex 0M1F": 0,
         "_deepnote_index_column": 7,
         "id": 7,
         "label": 0
        },
        {
         "Age": 21,
         "AgeGroup": "1.<25",
         "CD19+ (cells/ul)": 342.02,
         "CD3+T (cells/ul)": 2679.19,
         "CD4+T (cells/ul)": 1415.44,
         "CD45+ (cells/ul)": 3347.78,
         "CD8+T (cells/ul)": 1120.76,
         "MO HLADR+ MFI (cells/ul)": 2318,
         "Mono CD64+MFI (cells/ul)": 1642,
         "NK (cells/ul)": 285.99,
         "Neu CD64+MFI (cells/ul)": 150,
         "Sex 0M1F": 1,
         "_deepnote_index_column": 8,
         "id": 8,
         "label": 0
        },
        {
         "Age": 36,
         "AgeGroup": "3.35-44",
         "CD19+ (cells/ul)": 67.22,
         "CD3+T (cells/ul)": 1177.19,
         "CD4+T (cells/ul)": 490.5,
         "CD45+ (cells/ul)": 1441.06,
         "CD8+T (cells/ul)": 684.42,
         "MO HLADR+ MFI (cells/ul)": 1412,
         "Mono CD64+MFI (cells/ul)": 1213,
         "NK (cells/ul)": 185.3,
         "Neu CD64+MFI (cells/ul)": 243,
         "Sex 0M1F": 1,
         "_deepnote_index_column": 9,
         "id": 9,
         "label": 0
        }
       ]
      },
      "text/html": [
       "<div>\n",
       "<style scoped>\n",
       "    .dataframe tbody tr th:only-of-type {\n",
       "        vertical-align: middle;\n",
       "    }\n",
       "\n",
       "    .dataframe tbody tr th {\n",
       "        vertical-align: top;\n",
       "    }\n",
       "\n",
       "    .dataframe thead th {\n",
       "        text-align: right;\n",
       "    }\n",
       "</style>\n",
       "<table border=\"1\" class=\"dataframe\">\n",
       "  <thead>\n",
       "    <tr style=\"text-align: right;\">\n",
       "      <th></th>\n",
       "      <th>id</th>\n",
       "      <th>MO HLADR+ MFI (cells/ul)</th>\n",
       "      <th>Neu CD64+MFI (cells/ul)</th>\n",
       "      <th>CD3+T (cells/ul)</th>\n",
       "      <th>CD8+T (cells/ul)</th>\n",
       "      <th>CD4+T (cells/ul)</th>\n",
       "      <th>NK (cells/ul)</th>\n",
       "      <th>CD19+ (cells/ul)</th>\n",
       "      <th>CD45+ (cells/ul)</th>\n",
       "      <th>Age</th>\n",
       "      <th>Sex 0M1F</th>\n",
       "      <th>Mono CD64+MFI (cells/ul)</th>\n",
       "      <th>label</th>\n",
       "      <th>AgeGroup</th>\n",
       "    </tr>\n",
       "  </thead>\n",
       "  <tbody>\n",
       "    <tr>\n",
       "      <th>0</th>\n",
       "      <td>0</td>\n",
       "      <td>3556.0</td>\n",
       "      <td>2489.0</td>\n",
       "      <td>265.19</td>\n",
       "      <td>77.53</td>\n",
       "      <td>176.55</td>\n",
       "      <td>0.00</td>\n",
       "      <td>4.20</td>\n",
       "      <td>307.91</td>\n",
       "      <td>52</td>\n",
       "      <td>0</td>\n",
       "      <td>7515.0</td>\n",
       "      <td>1</td>\n",
       "      <td>4.45-54</td>\n",
       "    </tr>\n",
       "    <tr>\n",
       "      <th>1</th>\n",
       "      <td>1</td>\n",
       "      <td>1906.0</td>\n",
       "      <td>134.0</td>\n",
       "      <td>1442.61</td>\n",
       "      <td>551.90</td>\n",
       "      <td>876.07</td>\n",
       "      <td>112.10</td>\n",
       "      <td>168.15</td>\n",
       "      <td>1735.48</td>\n",
       "      <td>20</td>\n",
       "      <td>1</td>\n",
       "      <td>1756.0</td>\n",
       "      <td>0</td>\n",
       "      <td>1.&lt;25</td>\n",
       "    </tr>\n",
       "    <tr>\n",
       "      <th>2</th>\n",
       "      <td>2</td>\n",
       "      <td>1586.0</td>\n",
       "      <td>71.0</td>\n",
       "      <td>1332.74</td>\n",
       "      <td>684.20</td>\n",
       "      <td>655.26</td>\n",
       "      <td>244.95</td>\n",
       "      <td>216.52</td>\n",
       "      <td>1820.04</td>\n",
       "      <td>28</td>\n",
       "      <td>1</td>\n",
       "      <td>1311.0</td>\n",
       "      <td>0</td>\n",
       "      <td>2.25-34</td>\n",
       "    </tr>\n",
       "    <tr>\n",
       "      <th>3</th>\n",
       "      <td>3</td>\n",
       "      <td>683.0</td>\n",
       "      <td>94.0</td>\n",
       "      <td>419.23</td>\n",
       "      <td>255.80</td>\n",
       "      <td>162.17</td>\n",
       "      <td>72.05</td>\n",
       "      <td>44.68</td>\n",
       "      <td>538.22</td>\n",
       "      <td>55</td>\n",
       "      <td>1</td>\n",
       "      <td>1443.0</td>\n",
       "      <td>0</td>\n",
       "      <td>5.55-64</td>\n",
       "    </tr>\n",
       "    <tr>\n",
       "      <th>4</th>\n",
       "      <td>4</td>\n",
       "      <td>1032.0</td>\n",
       "      <td>71.0</td>\n",
       "      <td>1102.72</td>\n",
       "      <td>480.27</td>\n",
       "      <td>625.30</td>\n",
       "      <td>188.78</td>\n",
       "      <td>130.77</td>\n",
       "      <td>1427.97</td>\n",
       "      <td>28</td>\n",
       "      <td>1</td>\n",
       "      <td>1542.0</td>\n",
       "      <td>0</td>\n",
       "      <td>2.25-34</td>\n",
       "    </tr>\n",
       "    <tr>\n",
       "      <th>...</th>\n",
       "      <td>...</td>\n",
       "      <td>...</td>\n",
       "      <td>...</td>\n",
       "      <td>...</td>\n",
       "      <td>...</td>\n",
       "      <td>...</td>\n",
       "      <td>...</td>\n",
       "      <td>...</td>\n",
       "      <td>...</td>\n",
       "      <td>...</td>\n",
       "      <td>...</td>\n",
       "      <td>...</td>\n",
       "      <td>...</td>\n",
       "      <td>...</td>\n",
       "    </tr>\n",
       "    <tr>\n",
       "      <th>82</th>\n",
       "      <td>82</td>\n",
       "      <td>626.0</td>\n",
       "      <td>68.0</td>\n",
       "      <td>1771.57</td>\n",
       "      <td>666.99</td>\n",
       "      <td>1117.48</td>\n",
       "      <td>360.21</td>\n",
       "      <td>118.84</td>\n",
       "      <td>2306.82</td>\n",
       "      <td>42</td>\n",
       "      <td>1</td>\n",
       "      <td>1521.0</td>\n",
       "      <td>0</td>\n",
       "      <td>3.35-44</td>\n",
       "    </tr>\n",
       "    <tr>\n",
       "      <th>83</th>\n",
       "      <td>83</td>\n",
       "      <td>1237.0</td>\n",
       "      <td>71.0</td>\n",
       "      <td>1348.53</td>\n",
       "      <td>428.09</td>\n",
       "      <td>924.69</td>\n",
       "      <td>120.02</td>\n",
       "      <td>48.67</td>\n",
       "      <td>1524.78</td>\n",
       "      <td>56</td>\n",
       "      <td>0</td>\n",
       "      <td>1345.0</td>\n",
       "      <td>0</td>\n",
       "      <td>5.55-64</td>\n",
       "    </tr>\n",
       "    <tr>\n",
       "      <th>84</th>\n",
       "      <td>84</td>\n",
       "      <td>634.0</td>\n",
       "      <td>1002.0</td>\n",
       "      <td>1300.00</td>\n",
       "      <td>558.00</td>\n",
       "      <td>724.00</td>\n",
       "      <td>67.00</td>\n",
       "      <td>105.00</td>\n",
       "      <td>1484.26</td>\n",
       "      <td>34</td>\n",
       "      <td>0</td>\n",
       "      <td>2926.0</td>\n",
       "      <td>1</td>\n",
       "      <td>2.25-34</td>\n",
       "    </tr>\n",
       "    <tr>\n",
       "      <th>85</th>\n",
       "      <td>85</td>\n",
       "      <td>112.0</td>\n",
       "      <td>884.0</td>\n",
       "      <td>942.83</td>\n",
       "      <td>378.49</td>\n",
       "      <td>567.06</td>\n",
       "      <td>116.77</td>\n",
       "      <td>31.81</td>\n",
       "      <td>1104.59</td>\n",
       "      <td>33</td>\n",
       "      <td>1</td>\n",
       "      <td>2352.0</td>\n",
       "      <td>1</td>\n",
       "      <td>2.25-34</td>\n",
       "    </tr>\n",
       "    <tr>\n",
       "      <th>86</th>\n",
       "      <td>86</td>\n",
       "      <td>195.0</td>\n",
       "      <td>213.0</td>\n",
       "      <td>724.00</td>\n",
       "      <td>364.00</td>\n",
       "      <td>361.00</td>\n",
       "      <td>18.00</td>\n",
       "      <td>155.00</td>\n",
       "      <td>897.00</td>\n",
       "      <td>19</td>\n",
       "      <td>1</td>\n",
       "      <td>2445.0</td>\n",
       "      <td>1</td>\n",
       "      <td>1.&lt;25</td>\n",
       "    </tr>\n",
       "  </tbody>\n",
       "</table>\n",
       "<p>87 rows × 14 columns</p>\n",
       "</div>"
      ],
      "text/plain": [
       "    id  MO HLADR+ MFI (cells/ul)  Neu CD64+MFI (cells/ul)  CD3+T (cells/ul)  \\\n",
       "0    0                    3556.0                   2489.0            265.19   \n",
       "1    1                    1906.0                    134.0           1442.61   \n",
       "2    2                    1586.0                     71.0           1332.74   \n",
       "3    3                     683.0                     94.0            419.23   \n",
       "4    4                    1032.0                     71.0           1102.72   \n",
       "..  ..                       ...                      ...               ...   \n",
       "82  82                     626.0                     68.0           1771.57   \n",
       "83  83                    1237.0                     71.0           1348.53   \n",
       "84  84                     634.0                   1002.0           1300.00   \n",
       "85  85                     112.0                    884.0            942.83   \n",
       "86  86                     195.0                    213.0            724.00   \n",
       "\n",
       "    CD8+T (cells/ul)  CD4+T (cells/ul)  NK (cells/ul)  CD19+ (cells/ul)  \\\n",
       "0              77.53            176.55           0.00              4.20   \n",
       "1             551.90            876.07         112.10            168.15   \n",
       "2             684.20            655.26         244.95            216.52   \n",
       "3             255.80            162.17          72.05             44.68   \n",
       "4             480.27            625.30         188.78            130.77   \n",
       "..               ...               ...            ...               ...   \n",
       "82            666.99           1117.48         360.21            118.84   \n",
       "83            428.09            924.69         120.02             48.67   \n",
       "84            558.00            724.00          67.00            105.00   \n",
       "85            378.49            567.06         116.77             31.81   \n",
       "86            364.00            361.00          18.00            155.00   \n",
       "\n",
       "    CD45+ (cells/ul)  Age  Sex 0M1F  Mono CD64+MFI (cells/ul)  label AgeGroup  \n",
       "0             307.91   52         0                    7515.0      1  4.45-54  \n",
       "1            1735.48   20         1                    1756.0      0    1.<25  \n",
       "2            1820.04   28         1                    1311.0      0  2.25-34  \n",
       "3             538.22   55         1                    1443.0      0  5.55-64  \n",
       "4            1427.97   28         1                    1542.0      0  2.25-34  \n",
       "..               ...  ...       ...                       ...    ...      ...  \n",
       "82           2306.82   42         1                    1521.0      0  3.35-44  \n",
       "83           1524.78   56         0                    1345.0      0  5.55-64  \n",
       "84           1484.26   34         0                    2926.0      1  2.25-34  \n",
       "85           1104.59   33         1                    2352.0      1  2.25-34  \n",
       "86            897.00   19         1                    2445.0      1    1.<25  \n",
       "\n",
       "[87 rows x 14 columns]"
      ]
     },
     "execution_count": 23,
     "metadata": {},
     "output_type": "execute_result"
    }
   ],
   "source": [
    "df_train[]"
   ]
  },
  {
   "cell_type": "markdown",
   "metadata": {
    "created_in_deepnote_cell": true,
    "deepnote_cell_type": "markdown",
    "tags": []
   },
   "source": [
    "<a style='text-decoration:none;line-height:16px;display:flex;color:#5B5B62;padding:10px;justify-content:end;' href='https://deepnote.com?utm_source=created-in-deepnote-cell&projectId=ea2e93e8-deb3-495e-8af3-6f5d6ab03efb' target=\"_blank\">\n",
    "<img alt='Created in deepnote.com' style='display:inline;max-height:16px;margin:0px;margin-right:7.5px;' src='data:image/svg+xml;base64,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' > </img>\n",
    "Created in <span style='font-weight:600;margin-left:4px;'>Deepnote</span></a>"
   ]
  }
 ],
 "metadata": {
  "deepnote": {
   "is_reactive": false
  },
  "deepnote_execution_queue": [],
  "deepnote_notebook_id": "79d74b4e-94a8-47c5-9022-2667c0a77af1",
  "kernelspec": {
   "display_name": "Python 3.7.2 64-bit",
   "language": "python",
   "name": "python3"
  },
  "language_info": {
   "codemirror_mode": {
    "name": "ipython",
    "version": 3
   },
   "file_extension": ".py",
   "mimetype": "text/x-python",
   "name": "python",
   "nbconvert_exporter": "python",
   "pygments_lexer": "ipython3",
   "version": "3.7.2"
  },
  "orig_nbformat": 2,
  "vscode": {
   "interpreter": {
    "hash": "3b0f9378c7d4e9e5b71de27da9cd1cd18b95445750d5ff67ce0c1dec8c891e42"
   }
  }
 },
 "nbformat": 4,
 "nbformat_minor": 2
}
